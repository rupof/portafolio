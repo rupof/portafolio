{
  "cells": [
    {
      "cell_type": "markdown",
      "metadata": {
        "id": "view-in-github",
        "colab_type": "text"
      },
      "source": [
        "<a href=\"https://colab.research.google.com/github/rupof/portafolio/blob/main/Cohort5_RobertoF_variational_classifier.ipynb\" target=\"_parent\"><img src=\"https://colab.research.google.com/assets/colab-badge.svg\" alt=\"Open In Colab\"/></a>"
      ]
    },
    {
      "cell_type": "markdown",
      "metadata": {
        "id": "VvdLPV-4BL22"
      },
      "source": [
        "# Cohort 5: Task 2 Encoding and Classifier\n",
        "\n",
        "Task requested for the Quantum Computing Mentorship Program at QOSF. \n",
        "\n",
        "\n",
        "\n",
        "\n",
        "\n",
        "Roberto Flórez Ablan\n",
        "\n",
        "Federal University of São Carlos, Brazil\n",
        "\n",
        "rflorezablan@gmail.com\n"
      ]
    },
    {
      "cell_type": "markdown",
      "metadata": {
        "id": "qO3HHhQ5BL26"
      },
      "source": [
        "Variational classifier\n",
        "======================\n",
        "\n",
        "\n",
        "This notebook encodes classical data using Amplitude and Angle encoding and classifies it using a variational classifier algorithm. The overall structure is based on the [Variational Classifier](https://pennylane.ai/qml/demos/tutorial_variational_classifier.html) tutorial.  \n",
        "\n",
        "\n"
      ]
    },
    {
      "cell_type": "markdown",
      "metadata": {
        "id": "weBUape_BL29"
      },
      "source": [
        "We will use a variational quantum classifier to reproduce the parity function of the given dataset.  The procedure shows how to deal with classical inputs using  amplitude and angle encoding. The amplitude encoding approach was taken following [  Möttönen, et al. (2004)](https://arxiv.org/abs/quant-ph/0407010) as done in the PENNYLANE tutorial. The angle encoding implementation used PENNYLANE ready-to-go function `qml.templates.AngleEmbedding`. For both approaches we considered completely arbitrary gate rotations connected through CNOTs.\n",
        "\n",
        "We were able to train circuits with different number of layers and found that for the Amplitude Embedding case, circuits trained with 2 or 5 layers were the most accurate in classifying test and training data.  In the Angle Embedding approach, the 1 layer circuit obtained the best results. Moreover, we also show how the classifier algorithm for the best circuits changes as it is trained.  Further explorations changing the type of gates for the implemented circuit can be done, but time limitations did not allow these inquiries. \n",
        "\n",
        "\n",
        "\n",
        "1. Fitting the  function\n",
        "==============================\n",
        "\n",
        "Imports\n",
        "-------\n",
        "\n"
      ]
    },
    {
      "cell_type": "markdown",
      "source": [
        "Collabs imports and installations."
      ],
      "metadata": {
        "id": "nfgldr82A4Me"
      }
    },
    {
      "cell_type": "code",
      "source": [
        "!pip install matplotlib"
      ],
      "metadata": {
        "colab": {
          "base_uri": "https://localhost:8080/"
        },
        "id": "lbrbcw71wj2O",
        "outputId": "b72db0d4-3d29-4dc8-c548-b5e6d46d67fe"
      },
      "execution_count": 1,
      "outputs": [
        {
          "output_type": "stream",
          "name": "stdout",
          "text": [
            "Requirement already satisfied: matplotlib in /usr/local/lib/python3.7/dist-packages (3.2.2)\n",
            "Requirement already satisfied: pyparsing!=2.0.4,!=2.1.2,!=2.1.6,>=2.0.1 in /usr/local/lib/python3.7/dist-packages (from matplotlib) (3.0.7)\n",
            "Requirement already satisfied: cycler>=0.10 in /usr/local/lib/python3.7/dist-packages (from matplotlib) (0.11.0)\n",
            "Requirement already satisfied: python-dateutil>=2.1 in /usr/local/lib/python3.7/dist-packages (from matplotlib) (2.8.2)\n",
            "Requirement already satisfied: kiwisolver>=1.0.1 in /usr/local/lib/python3.7/dist-packages (from matplotlib) (1.3.2)\n",
            "Requirement already satisfied: numpy>=1.11 in /usr/local/lib/python3.7/dist-packages (from matplotlib) (1.21.5)\n",
            "Requirement already satisfied: six>=1.5 in /usr/local/lib/python3.7/dist-packages (from python-dateutil>=2.1->matplotlib) (1.15.0)\n"
          ]
        }
      ]
    },
    {
      "cell_type": "code",
      "source": [
        "!pip install pennylane\n"
      ],
      "metadata": {
        "colab": {
          "base_uri": "https://localhost:8080/"
        },
        "id": "5trMq2MTd8SU",
        "outputId": "7f174141-3841-468a-c31a-a3f765d23301"
      },
      "execution_count": 2,
      "outputs": [
        {
          "output_type": "stream",
          "name": "stdout",
          "text": [
            "Requirement already satisfied: pennylane in /usr/local/lib/python3.7/dist-packages (0.21.0)\n",
            "Requirement already satisfied: appdirs in /usr/local/lib/python3.7/dist-packages (from pennylane) (1.4.4)\n",
            "Requirement already satisfied: toml in /usr/local/lib/python3.7/dist-packages (from pennylane) (0.10.2)\n",
            "Requirement already satisfied: scipy in /usr/local/lib/python3.7/dist-packages (from pennylane) (1.4.1)\n",
            "Requirement already satisfied: semantic-version==2.6 in /usr/local/lib/python3.7/dist-packages (from pennylane) (2.6.0)\n",
            "Requirement already satisfied: numpy in /usr/local/lib/python3.7/dist-packages (from pennylane) (1.21.5)\n",
            "Requirement already satisfied: retworkx in /usr/local/lib/python3.7/dist-packages (from pennylane) (0.11.0)\n",
            "Requirement already satisfied: networkx in /usr/local/lib/python3.7/dist-packages (from pennylane) (2.6.3)\n",
            "Requirement already satisfied: autoray in /usr/local/lib/python3.7/dist-packages (from pennylane) (0.2.5)\n",
            "Requirement already satisfied: autograd in /usr/local/lib/python3.7/dist-packages (from pennylane) (1.3)\n",
            "Requirement already satisfied: cachetools in /usr/local/lib/python3.7/dist-packages (from pennylane) (4.2.4)\n",
            "Requirement already satisfied: pennylane-lightning>=0.21 in /usr/local/lib/python3.7/dist-packages (from pennylane) (0.21.0)\n",
            "Requirement already satisfied: ninja in /usr/local/lib/python3.7/dist-packages (from pennylane-lightning>=0.21->pennylane) (1.10.2.3)\n",
            "Requirement already satisfied: future>=0.15.2 in /usr/local/lib/python3.7/dist-packages (from autograd->pennylane) (0.16.0)\n"
          ]
        }
      ]
    },
    {
      "cell_type": "code",
      "source": [
        "from google.colab import drive\n",
        "drive.mount('/content/drive')"
      ],
      "metadata": {
        "colab": {
          "base_uri": "https://localhost:8080/"
        },
        "id": "xsf9Zsl9gEQA",
        "outputId": "4ca4c285-d10d-4223-9615-cedfcb82db7b"
      },
      "execution_count": 3,
      "outputs": [
        {
          "output_type": "stream",
          "name": "stdout",
          "text": [
            "Drive already mounted at /content/drive; to attempt to forcibly remount, call drive.mount(\"/content/drive\", force_remount=True).\n"
          ]
        }
      ]
    },
    {
      "cell_type": "code",
      "execution_count": 4,
      "metadata": {
        "id": "v9oExnVxBL2-"
      },
      "outputs": [],
      "source": [
        "import pennylane as qml\n",
        "from pennylane import numpy as np\n",
        "from pennylane.optimize import NesterovMomentumOptimizer"
      ]
    },
    {
      "cell_type": "markdown",
      "metadata": {
        "id": "c52b81PGBL3A"
      },
      "source": [
        "Amplitude encoding\n",
        "===========================\n",
        "\n",
        "We create a quantum device with two qubits (“wires”). \n"
      ]
    },
    {
      "cell_type": "code",
      "execution_count": 5,
      "metadata": {
        "id": "_JJhZlBIBL3B"
      },
      "outputs": [],
      "source": [
        "Nqubit = 2\n",
        "dev = qml.device(\"default.qubit\", wires=Nqubit)"
      ]
    },
    {
      "cell_type": "markdown",
      "metadata": {
        "id": "waPWUPWqBL3D"
      },
      "source": [
        "In our variational classifiers we define  an elementary circuit architecture that gets repeated to build the\n",
        "variational circuit (layer). Our circuit layer consists of an arbitrary rotation on every qubit, as\n",
        "well as CNOTs that entangle each qubit with its neighbour.\n"
      ]
    },
    {
      "cell_type": "code",
      "execution_count": 6,
      "metadata": {
        "id": "VAcWAou1BL3F"
      },
      "outputs": [],
      "source": [
        "def layer(W):\n",
        "    qml.RX(W[0,0], wires = 0)\n",
        "    qml.RY(W[0,1], wires = 0)\n",
        "    qml.RZ(W[0,2], wires = 0)\n",
        "\n",
        "    qml.RX(W[1,0], wires = 1)\n",
        "    qml.RY(W[1,1], wires = 1)\n",
        "    qml.RZ(W[1,2], wires = 1)\n",
        "    \n",
        "    qml.CNOT(wires=[0, 1])"
      ]
    },
    {
      "cell_type": "markdown",
      "metadata": {
        "id": "8ScdFxhbBL3H"
      },
      "source": [
        "To encode our data inputs $x$ into the circuit, we follow [Mottonen, 2004](https://arxiv.org/abs/quant-ph/0407010) scheme. Our inputs have to be translated into a set of angles to acquire the correct state. The relation between the angle and inputs is given in the aforementioned paper. Moreover, considering Amplitude encoding we follow the gate implementation of the paper and obtain a general circuit to translate our initial inputs \n",
        "\n",
        "\n",
        "\n"
      ]
    },
    {
      "cell_type": "code",
      "execution_count": 7,
      "metadata": {
        "id": "ce2LyWDIBL3I"
      },
      "outputs": [],
      "source": [
        "def get_angles(x):\n",
        "\n",
        "    beta0 = 2 * np.arcsin(np.sqrt(x[1] ** 2) / np.sqrt(x[0] ** 2 + x[1] ** 2 + 1e-12))\n",
        "    beta1 = 2 * np.arcsin(np.sqrt(x[3] ** 2) / np.sqrt(x[2] ** 2 + x[3] ** 2 + 1e-12))\n",
        "    beta2 = 2 * np.arcsin(\n",
        "        np.sqrt(x[2] ** 2 + x[3] ** 2)\n",
        "        / np.sqrt(x[0] ** 2 + x[1] ** 2 + x[2] ** 2 + x[3] ** 2)\n",
        "    )\n",
        "\n",
        "    return np.array([beta2, -beta1 / 2, beta1 / 2, -beta0 / 2, beta0 / 2])\n",
        "\n",
        "\n",
        "def statepreparation(a):\n",
        "    qml.RY(a[0], wires=0)\n",
        "    qml.CNOT(wires=[0, 1])\n",
        "    qml.RY(a[1], wires=1)\n",
        "    qml.CNOT(wires=[0, 1])\n",
        "    \n",
        "    qml.RY(a[2], wires=1)\n",
        "\n",
        "    qml.PauliX(wires=0)\n",
        "    qml.CNOT(wires=[0, 1])\n",
        "    qml.RY(a[3], wires=1)\n",
        "    \n",
        "    qml.CNOT(wires=[0, 1])\n",
        "    qml.RY(a[4], wires=1)\n",
        "    qml.PauliX(wires=0)\n",
        "    #return qml.state()"
      ]
    },
    {
      "cell_type": "markdown",
      "metadata": {
        "id": "cdN9JpH2BL3J"
      },
      "source": [
        "We define the quantum node as a state preparation routine, followed\n",
        "by a repetition of the layer structure. We call the parameters `weights`.\n",
        "\n"
      ]
    },
    {
      "cell_type": "code",
      "execution_count": 8,
      "metadata": {
        "id": "QKVhrsDRBL3K"
      },
      "outputs": [],
      "source": [
        "@qml.qnode(dev)\n",
        "def circuit(weights, data):\n",
        "    statepreparation(data)\n",
        "    for W in weights:\n",
        "        layer(W)\n",
        "    return qml.expval(qml.PauliZ(0))"
      ]
    },
    {
      "cell_type": "markdown",
      "metadata": {
        "id": "phZxHSKGBL3K"
      },
      "source": [
        "We define our variational classifier in term of our circuit\n"
      ]
    },
    {
      "cell_type": "code",
      "execution_count": 9,
      "metadata": {
        "id": "yrDnyuVJBL3L"
      },
      "outputs": [],
      "source": [
        "def variational_classifier(weights, bias, x):\n",
        "    return circuit(weights, x) + bias"
      ]
    },
    {
      "cell_type": "markdown",
      "metadata": {
        "id": "pNI-Qr9uBL3L"
      },
      "source": [
        "Cost\n",
        "====\n",
        "\n",
        "We use the standard square loss to measures the distance between target labels and model predictions.\n"
      ]
    },
    {
      "cell_type": "code",
      "execution_count": 10,
      "metadata": {
        "id": "tP44y7zUBL3M"
      },
      "outputs": [],
      "source": [
        "def square_loss(labels, predictions):\n",
        "    loss = 0\n",
        "    for l, p in zip(labels, predictions):\n",
        "        loss = loss + (l - p) ** 2\n",
        "\n",
        "    loss = loss / len(labels)\n",
        "    return loss"
      ]
    },
    {
      "cell_type": "markdown",
      "metadata": {
        "id": "8ZUaN-_tBL3N"
      },
      "source": [
        "To monitor how many inputs the current classifier predicted correctly,\n",
        "we also define the accuracy given target labels and model predictions.\n"
      ]
    },
    {
      "cell_type": "code",
      "execution_count": 11,
      "metadata": {
        "id": "R5Vb3MnuBL3O"
      },
      "outputs": [],
      "source": [
        "def accuracy(labels, predictions):\n",
        "\n",
        "    loss = 0\n",
        "    for l, p in zip(labels, predictions):\n",
        "        if abs(l - p) < 1e-5:\n",
        "            loss = loss + 1\n",
        "    loss = loss / len(labels)\n",
        "\n",
        "    return loss"
      ]
    },
    {
      "cell_type": "markdown",
      "metadata": {
        "id": "JYH9659VBL3P"
      },
      "source": [
        "For learning tasks, the cost depends on the data - here the features and\n",
        "labels considered in the iteration of the optimization routine.\n"
      ]
    },
    {
      "cell_type": "code",
      "execution_count": 12,
      "metadata": {
        "id": "kJ9SmsNsBL3P"
      },
      "outputs": [],
      "source": [
        "def cost(weights, bias, X, Y):\n",
        "    predictions = [variational_classifier(weights, bias, x) for x in X]\n",
        "    return square_loss(Y, predictions)"
      ]
    },
    {
      "cell_type": "markdown",
      "metadata": {
        "id": "RQvjIvsbBL3Q"
      },
      "source": [
        "Optimization\n",
        "============\n",
        "\n",
        "Let’s now load and preprocess the training data...\n",
        "\n"
      ]
    },
    {
      "cell_type": "code",
      "execution_count": 13,
      "metadata": {
        "id": "NRg2ei-aBL3Q"
      },
      "outputs": [],
      "source": [
        "#data = np.loadtxt(\"./data/mock_train_set.csv\", delimiter=\",\") # For the local case\n",
        "data = np.loadtxt(\"./drive/MyDrive/data/mock_train_set.csv\", delimiter=\",\") # For the colab (google drive) case\n",
        "\n",
        "X = np.array(data[1:, :-1], requires_grad = False)\n",
        "Y = np.array(data[1:, -1], requires_grad = False)\n",
        "\n",
        "normalization = np.sqrt(np.sum(X**2, -1))\n",
        "X_norm = (X.T / normalization).T\n",
        "\n",
        "features = np.array([get_angles(x) for x in X_norm], requires_grad=False)\n",
        "\n",
        "\n",
        "Y = np.array(data[1:, -1], requires_grad = False)\n",
        "Y = Y * 2 - np.ones(len(Y)) # We deal with -1,1 outputs instead of 1,0\n"
      ]
    },
    {
      "cell_type": "markdown",
      "source": [
        "... and test data."
      ],
      "metadata": {
        "id": "0o-MAtymk2xb"
      }
    },
    {
      "cell_type": "code",
      "source": [
        "\n",
        "#data = np.loadtxt(\"mock_test_set.csv\", delimiter=\",\") # For the local case\n",
        "data_test = np.loadtxt(\"./drive/MyDrive/data/mock_test_set.csv\", delimiter=\",\") # For the colab (google drive) case\n",
        "\n",
        "X_test = np.array(data_test[1:, :-1], requires_grad = False)\n",
        "Y_test = np.array(data_test[1:, -1], requires_grad = False)\n",
        "\n",
        "normalization_test = np.sqrt(np.sum(X_test**2, -1))\n",
        "X_norm_test = (X_test.T / normalization_test).T\n",
        "\n",
        "features_test = np.array([get_angles(x) for x in X_norm_test], requires_grad=False)\n",
        "\n",
        "Y_test = np.array(data_test[1:, -1], requires_grad = False)\n",
        "Y_test = Y_test * 2 - np.ones(len(Y_test))"
      ],
      "metadata": {
        "id": "FSP8HGZCkzyE"
      },
      "execution_count": 14,
      "outputs": []
    },
    {
      "cell_type": "markdown",
      "metadata": {
        "id": "sJfckIvnBL3R"
      },
      "source": [
        "Our ansatz is randomly selected. We make a function that generates new ansatz for $ N $ layers, so that we can characterize our model in terms of the number of circuit layers \n"
      ]
    },
    {
      "cell_type": "code",
      "execution_count": 15,
      "metadata": {
        "id": "EfOva69PBL3R"
      },
      "outputs": [],
      "source": [
        "def weights_bias_ansatz(num_layers, num_qubits):\n",
        "  np.random.seed(0)\n",
        "  weights_init = 0.1 * np.random.randn(num_layers, num_qubits, 3) #Parameters to be optimized\n",
        "  bias_init = np.array(0.0)\n",
        "  return weights_init, bias_init"
      ]
    },
    {
      "cell_type": "markdown",
      "metadata": {
        "id": "s9QNRY8OBL3S"
      },
      "source": [
        "For each different circuit (different number of layers) we create a new optimizer `NesterovMomentumOptimizer` and train it. We track the accuracy - the share of correctly\n",
        "classified data samples (of the training data set). For this we compute the outputs of the\n",
        "variational classifier and turn them into predictions in $\\{-1,1\\}$ by\n",
        "taking the sign of the output. Moreover, we also track the accuracy with the test data set. We track both values for models with different number of layers  \n",
        "\n"
      ]
    },
    {
      "cell_type": "code",
      "execution_count": 17,
      "metadata": {
        "colab": {
          "base_uri": "https://localhost:8080/"
        },
        "id": "3c0hTc0FBL3U",
        "outputId": "ac69a708-e9ed-46e4-ec7f-696df4e2c77d"
      },
      "outputs": [
        {
          "output_type": "stream",
          "name": "stdout",
          "text": [
            "Training system with 1 layers\n",
            "Training system with 2 layers\n",
            "Training system with 3 layers\n",
            "Training system with 4 layers\n",
            "Training system with 5 layers\n"
          ]
        }
      ],
      "source": [
        "batch_size = 5\n",
        "number_of_iterations = 25\n",
        "layers_accuracy = [i for i in range(1,7)] #Circuit layers\n",
        "for num_layers in range(1, len(layers_accuracy)):\n",
        "  opt = NesterovMomentumOptimizer(0.5) #New optimizer\n",
        "  weights, bias = weights_bias_ansatz(num_layers, Nqubit   )\n",
        "  train_set_accuracy = np.zeros(number_of_iterations)\n",
        "  test_set_accuracy = np.zeros(number_of_iterations)\n",
        "  print(f\"Training system with {num_layers} layers\")\n",
        "  layers_accuracy[num_layers] = accuracy\n",
        "\n",
        "  for it in range(number_of_iterations):\n",
        "\n",
        "      # Update the weights by one optimizer step\n",
        "      batch_index = np.random.randint(0, len(features), (batch_size,))\n",
        "      X_batch = features[batch_index]\n",
        "      Y_batch = Y[batch_index]\n",
        "    \n",
        "      weights, bias, _, _ = opt.step(cost, weights, bias, X_batch, Y_batch)\n",
        "\n",
        "      # Compute accuracy\n",
        "      trained_predictions = [np.sign(variational_classifier(weights, bias, x)) for x in features]\n",
        "      train_set_accuracy[it] = accuracy(Y, trained_predictions)\n",
        "\n",
        "\n",
        "      test_predictions = [np.sign(variational_classifier(weights, bias, x)) for x in features_test]\n",
        "      test_set_accuracy[it] = accuracy(Y_test, test_predictions)\n",
        "\n",
        "  \n",
        "  layers_accuracy[num_layers] = [train_set_accuracy, test_set_accuracy ] #We save the accuracy by iteratio of each circuit layer\n",
        "\n",
        "\n",
        "\n",
        "      "
      ]
    },
    {
      "cell_type": "markdown",
      "metadata": {
        "id": "Y6btdFeXBL3U"
      },
      "source": [
        "Plotting accuracy results"
      ]
    },
    {
      "cell_type": "code",
      "source": [
        "import matplotlib.pyplot as plt"
      ],
      "metadata": {
        "id": "CeWvAbfTuelL"
      },
      "execution_count": 18,
      "outputs": []
    },
    {
      "cell_type": "markdown",
      "source": [
        "We find the final accuracy"
      ],
      "metadata": {
        "id": "SwHPOf1nC6Dj"
      }
    },
    {
      "cell_type": "code",
      "source": [
        "last_train_accuracy =  [float(str(layers_accuracy[i][0][-1])) for i in range(1,6)]\n",
        "last_test_accuracy =  [float(str(layers_accuracy[i][1][-1])) for i in range(1,6)]"
      ],
      "metadata": {
        "id": "DkWV1vPbotwi"
      },
      "execution_count": 19,
      "outputs": []
    },
    {
      "cell_type": "markdown",
      "source": [
        "And make a bar plot"
      ],
      "metadata": {
        "id": "_sqyEFuKDAGP"
      }
    },
    {
      "cell_type": "code",
      "source": [
        "N = 5\n",
        "ind = np.arange(N)  # the x locations for the groups\n",
        "width = 0.27       # the width of the bars\n",
        "\n",
        "fig = plt.figure()\n",
        "ax = fig.add_subplot(111)\n",
        "\n",
        "yvals = last_train_accuracy\n",
        "rects1 = ax.bar(ind, yvals, width, color='orange')\n",
        "zvals = last_test_accuracy\n",
        "rects2 = ax.bar(ind+width, zvals, width, color='blue')\n",
        "\n",
        "\n",
        "ax.set_xticks(ind+width)\n",
        "ax.set_xticklabels( ('1', '2', '3', '4', \"5\") )\n",
        "\n",
        "ax.set_ylabel(\"Accuracy\")\n",
        "ax.set_xlabel(\"Circuit layers\")\n",
        "\n",
        "ax.legend( (rects1[0], rects2[0]), ('Training set', 'Testing set') )\n"
      ],
      "metadata": {
        "colab": {
          "base_uri": "https://localhost:8080/",
          "height": 297
        },
        "id": "ZdxC1lk1oUUa",
        "outputId": "caeb36a6-63ee-430a-a4d7-e1a7e4256117"
      },
      "execution_count": 20,
      "outputs": [
        {
          "output_type": "execute_result",
          "data": {
            "text/plain": [
              "<matplotlib.legend.Legend at 0x7fd9ae899bd0>"
            ]
          },
          "metadata": {},
          "execution_count": 20
        },
        {
          "output_type": "display_data",
          "data": {
            "image/png": "[encoded data removed]",
            "text/plain": [
              "<Figure size 432x288 with 1 Axes>"
            ]
          },
          "metadata": {
            "needs_background": "light"
          }
        }
      ]
    },
    {
      "cell_type": "markdown",
      "source": [
        "Circuits with 2 and 5 layers are the most accurate, classifying correctly XX% and YY% of the testing data"
      ],
      "metadata": {
        "id": "nPglPXjoDHry"
      }
    },
    {
      "cell_type": "code",
      "source": [
        "print(\"Training data accuracy\")\n",
        "print(f\"2 layer circuit: {yvals[1]}, 5 layer circuit: {yvals[4]})\")\n",
        "\n",
        "print(\"Testing data accuracy\")\n",
        "print(f\"2 layer circuit: {zvals[1]}, 5 layer circuit: {zvals[4]})\")"
      ],
      "metadata": {
        "colab": {
          "base_uri": "https://localhost:8080/"
        },
        "id": "AZYYWBIdEe3X",
        "outputId": "c193054e-bd43-485f-fc45-3f4f8f0323eb"
      },
      "execution_count": 21,
      "outputs": [
        {
          "output_type": "stream",
          "name": "stdout",
          "text": [
            "Training data accuracy\n",
            "2 layer circuit: 0.83, 5 layer circuit: 0.8333333333333334)\n",
            "Testing data accuracy\n",
            "2 layer circuit: 1.0, 5 layer circuit: 0.9916666666666667)\n"
          ]
        }
      ]
    },
    {
      "cell_type": "markdown",
      "source": [
        "We can explore how these classifiers evolve for each iteration"
      ],
      "metadata": {
        "id": "Km-62zsNFLob"
      }
    },
    {
      "cell_type": "code",
      "source": [
        "\n",
        "\n",
        "plt.subplot(1, 2, 1)\n",
        "train_set_accuracy_best_circuit, test_set_accuracy_best_circuit  = layers_accuracy[2] \n",
        "plt.plot(range(number_of_iterations), train_set_accuracy_best_circuit, label = \"Training set\" )\n",
        "plt.plot(range(number_of_iterations), test_set_accuracy_best_circuit, label = \"Testing set\" )\n",
        "plt.xlabel(\"Iterations\")\n",
        "plt.ylabel(\"Accuracy\")\n",
        "\n",
        "\n",
        "plt.subplot(1, 2, 2)\n",
        "train_set_accuracy_best_circuit, test_set_accuracy_best_circuit  = layers_accuracy[5] \n",
        "plt.plot(range(number_of_iterations), train_set_accuracy_best_circuit, label = \"Training set\" )\n",
        "plt.plot(range(number_of_iterations), test_set_accuracy_best_circuit, label = \"Testing set\" )\n",
        "plt.xlabel(\"Iterations\")\n",
        "plt.ylabel(\"Accuracy\")\n",
        "\n",
        "plt.tight_layout()\n",
        "plt.legend()"
      ],
      "metadata": {
        "colab": {
          "base_uri": "https://localhost:8080/",
          "height": 315
        },
        "id": "R-EEDLGUFZfP",
        "outputId": "349cb066-e333-4e27-d15f-5a2e1629f1cf"
      },
      "execution_count": 22,
      "outputs": [
        {
          "output_type": "execute_result",
          "data": {
            "text/plain": [
              "<matplotlib.legend.Legend at 0x7fd9ae7db610>"
            ]
          },
          "metadata": {},
          "execution_count": 22
        },
        {
          "output_type": "display_data",
          "data": {
            "image/png": "[encoded data removed]",
            "text/plain": [
              "<Figure size 432x288 with 2 Axes>"
            ]
          },
          "metadata": {
            "needs_background": "light"
          }
        }
      ]
    },
    {
      "cell_type": "markdown",
      "metadata": {
        "id": "Vfm3ZNGuP1wY"
      },
      "source": [
        "# Angle encoding"
      ]
    },
    {
      "cell_type": "markdown",
      "metadata": {
        "id": "sEue87tNCcm8"
      },
      "source": [
        "In the case Angle encoding, we need 4 qubits, one for each input and again consider an arbitrary rotation on every qubit. \n",
        "\n"
      ]
    },
    {
      "cell_type": "code",
      "execution_count": 23,
      "metadata": {
        "id": "5ayXNDg8EOs7"
      },
      "outputs": [],
      "source": [
        "Nqubit = 4  \n",
        "dev = qml.device(\"default.qubit\", wires= Nqubit)"
      ]
    },
    {
      "cell_type": "code",
      "execution_count": 24,
      "metadata": {
        "id": "sIpT6OaXCj37"
      },
      "outputs": [],
      "source": [
        "def layer(W):\n",
        "\n",
        "    qml.RX(W[0,0], wires=0)\n",
        "    qml.RY(W[0,1], wires=0)\n",
        "    qml.RZ(W[0,2], wires=0)\n",
        "\n",
        "    qml.RX(W[1,0], wires=1)\n",
        "    qml.RY(W[1,1], wires=1)\n",
        "    qml.RZ(W[1,2], wires=1)\n",
        "\n",
        "    qml.RX(W[2,0], wires=2)\n",
        "    qml.RY(W[2,1], wires=2)\n",
        "    qml.RZ(W[2,2], wires=2)\n",
        "    \n",
        "    qml.RX(W[3,0], wires=3)\n",
        "    qml.RY(W[3,1], wires=3)\n",
        "    qml.RZ(W[3,2], wires=3)\n",
        "    \n",
        "    qml.CNOT(wires=[0, 1])\n",
        "    qml.CNOT(wires=[1, 2])\n",
        "    qml.CNOT(wires=[2, 3])\n",
        "    qml.CNOT(wires=[3, 0])\n"
      ]
    },
    {
      "cell_type": "markdown",
      "metadata": {
        "id": "prmqkooXC52K"
      },
      "source": [
        "Our state now encodes data through Angle Embedding, we use Hadamard to create a superposition and use the built-in Angle Embedding "
      ]
    },
    {
      "cell_type": "code",
      "execution_count": 25,
      "metadata": {
        "id": "bHyIwukGC5Ra"
      },
      "outputs": [],
      "source": [
        "def statepreparation(data):\n",
        "    for i in range(Nqubit):\n",
        "        qml.Hadamard(i)\n",
        "    qml.templates.AngleEmbedding(features=data, wires=range(Nqubit),rotation='Z')"
      ]
    },
    {
      "cell_type": "markdown",
      "metadata": {
        "id": "sPZAUNW0D_4t"
      },
      "source": [
        "We redefine our previous functions  and data considering the new encoding and system size"
      ]
    },
    {
      "cell_type": "code",
      "execution_count": 26,
      "metadata": {
        "id": "s_NrrGD5Ev_q"
      },
      "outputs": [],
      "source": [
        "@qml.qnode(dev)\n",
        "def circuit(weights, x):\n",
        "\n",
        "    statepreparation(x)\n",
        "\n",
        "    for W in weights:\n",
        "        layer(W)\n",
        "\n",
        "    return qml.expval(qml.PauliZ(0))\n",
        "\n",
        "\n",
        "def variational_classifier(weights, bias, x):\n",
        "    return circuit(weights, x) + bias"
      ]
    },
    {
      "cell_type": "code",
      "source": [
        "features = np.array([x for x in X_norm], requires_grad=False)\n",
        "features_test = np.array([x for x in X_norm_test], requires_grad=False)\n"
      ],
      "metadata": {
        "id": "I6KtbPedyEJK"
      },
      "execution_count": 27,
      "outputs": []
    },
    {
      "cell_type": "markdown",
      "metadata": {
        "id": "vPQqK8SKIquw"
      },
      "source": [
        "And make a new ansatz"
      ]
    },
    {
      "cell_type": "code",
      "source": [
        "number_of_iterations = 25\n",
        "layers_accuracy = [i for i in range(1,7)]\n",
        "for num_layers in range(1, len(layers_accuracy)):\n",
        "  opt = NesterovMomentumOptimizer(0.5)\n",
        "  weights, bias = weights_bias_ansatz(num_layers, Nqubit)\n",
        "  train_set_accuracy = np.zeros(number_of_iterations)\n",
        "  test_set_accuracy = np.zeros(number_of_iterations)\n",
        "  print(f\"Training system with {num_layers} layers\")\n",
        "  layers_accuracy[num_layers] = accuracy\n",
        "\n",
        "  for it in range(number_of_iterations):\n",
        "\n",
        "      # Update the weights by one optimizer step\n",
        "      batch_index = np.random.randint(0, len(features), (batch_size,))\n",
        "      X_batch = features[batch_index]\n",
        "      Y_batch = Y[batch_index]\n",
        "    \n",
        "      weights, bias, _, _ = opt.step(cost, weights, bias, X_batch, Y_batch)\n",
        "\n",
        "      # Compute accuracy\n",
        "      trained_predictions = [np.sign(variational_classifier(weights, bias, x)) for x in features]\n",
        "      train_set_accuracy[it] = accuracy(Y, trained_predictions)\n",
        "\n",
        "\n",
        "      test_predictions = [np.sign(variational_classifier(weights, bias, x)) for x in features_test]\n",
        "      test_set_accuracy[it] = accuracy(Y_test, test_predictions)\n",
        "\n",
        "  \n",
        "  layers_accuracy[num_layers] = [train_set_accuracy, test_set_accuracy ]\n",
        "\n",
        "\n",
        "\n",
        "      "
      ],
      "metadata": {
        "colab": {
          "base_uri": "https://localhost:8080/"
        },
        "id": "fSlmERnmr6K_",
        "outputId": "b1d5fb84-547b-4ace-b280-c0f26996edb8"
      },
      "execution_count": 28,
      "outputs": [
        {
          "output_type": "stream",
          "name": "stdout",
          "text": [
            "Training system with 1 layers\n",
            "Training system with 2 layers\n",
            "Training system with 3 layers\n",
            "Training system with 4 layers\n",
            "Training system with 5 layers\n"
          ]
        }
      ]
    },
    {
      "cell_type": "markdown",
      "source": [
        "Plotting"
      ],
      "metadata": {
        "id": "LsuTcRqYsjEw"
      }
    },
    {
      "cell_type": "code",
      "source": [
        "#Organizing results\n",
        "last_train_accuracy =  [float(str(layers_accuracy[i][0][-1])) for i in range(1,6)]\n",
        "last_test_accuracy =  [float(str(layers_accuracy[i][1][-1])) for i in range(1,6)]\n",
        "\n",
        "#Plotting bars!\n",
        "N = 5\n",
        "ind = np.arange(N)  # the x locations for the groups\n",
        "width = 0.27       # the width of the bars\n",
        "\n",
        "fig = plt.figure()\n",
        "ax = fig.add_subplot(111)\n",
        "\n",
        "yvals = last_train_accuracy\n",
        "rects1 = ax.bar(ind, yvals, width, color='orange')\n",
        "zvals = last_test_accuracy\n",
        "rects2 = ax.bar(ind+width, zvals, width, color='blue')\n",
        "\n",
        "\n",
        "ax.set_xticks(ind+width)\n",
        "ax.set_xticklabels( ('1', '2', '3', '4', \"5\") )\n",
        "\n",
        "ax.set_ylabel(\"Accuracy\")\n",
        "ax.set_xlabel(\"Circuit layers\")\n",
        "\n",
        "ax.legend( (rects1[0], rects2[0]), ('Training set', 'Testing set') )\n"
      ],
      "metadata": {
        "colab": {
          "base_uri": "https://localhost:8080/",
          "height": 297
        },
        "id": "OT8zEF0dsoNf",
        "outputId": "0580b43b-510c-46d5-a172-557e31fc009a"
      },
      "execution_count": 29,
      "outputs": [
        {
          "output_type": "execute_result",
          "data": {
            "text/plain": [
              "<matplotlib.legend.Legend at 0x7fd9ae9958d0>"
            ]
          },
          "metadata": {},
          "execution_count": 29
        },
        {
          "output_type": "display_data",
          "data": {
            "image/png": "[encoded data removed]",
            "text/plain": [
              "<Figure size 432x288 with 1 Axes>"
            ]
          },
          "metadata": {
            "needs_background": "light"
          }
        }
      ]
    },
    {
      "cell_type": "markdown",
      "source": [
        "The circuit with 1 layer is the most accurate!"
      ],
      "metadata": {
        "id": "E1dUpJaTD6cg"
      }
    },
    {
      "cell_type": "code",
      "source": [
        "print(\"Training data accuracy\")\n",
        "print(f\"1 layer circuit: {yvals[0]}\")\n",
        "\n",
        "print(\"Testing data accuracy\")\n",
        "print(f\"1 layer circuit: {zvals[0]}\")"
      ],
      "metadata": {
        "colab": {
          "base_uri": "https://localhost:8080/"
        },
        "id": "DcYa-5NNNrZu",
        "outputId": "5896db60-8c6f-4893-e8ae-306e5accba6d"
      },
      "execution_count": 30,
      "outputs": [
        {
          "output_type": "stream",
          "name": "stdout",
          "text": [
            "Training data accuracy\n",
            "1 layer circuit: 0.8366666666666667\n",
            "Testing data accuracy\n",
            "1 layer circuit: 0.9916666666666667\n"
          ]
        }
      ]
    },
    {
      "cell_type": "markdown",
      "source": [
        "Let's see how it reaches that accuracy"
      ],
      "metadata": {
        "id": "awig_HIvPXpj"
      }
    },
    {
      "cell_type": "code",
      "source": [
        "train_set_accuracy_best_circuit, test_set_accuracy_best_circuit  = layers_accuracy[1] \n",
        "plt.plot(range(number_of_iterations), train_set_accuracy_best_circuit, label = \"Training set\" )\n",
        "plt.plot(range(number_of_iterations), test_set_accuracy_best_circuit, label = \"Testing set\" )\n",
        "\n",
        "\n",
        "plt.xlabel(\"Iterations\")\n",
        "plt.ylabel(\"Accuracy\")\n",
        "plt.tight_layout()\n",
        "plt.legend()"
      ],
      "metadata": {
        "colab": {
          "base_uri": "https://localhost:8080/",
          "height": 315
        },
        "id": "vmoS0Q7KPSsg",
        "outputId": "40fd6acc-8713-4375-9118-d60bf30cb66a"
      },
      "execution_count": 31,
      "outputs": [
        {
          "output_type": "execute_result",
          "data": {
            "text/plain": [
              "<matplotlib.legend.Legend at 0x7fd9ae95af10>"
            ]
          },
          "metadata": {},
          "execution_count": 31
        },
        {
          "output_type": "display_data",
          "data": {
            "image/png": "[encoded data removed]",
            "text/plain": [
              "<Figure size 432x288 with 1 Axes>"
            ]
          },
          "metadata": {
            "needs_background": "light"
          }
        }
      ]
    }
  ],
  "metadata": {
    "colab": {
      "name": " Cohort5_RobertoF_variational_classifier.ipynb",
      "provenance": [],
      "collapsed_sections": [],
      "include_colab_link": true
    },
    "kernelspec": {
      "display_name": "Python 3",
      "language": "python",
      "name": "python3"
    },
    "language_info": {
      "codemirror_mode": {
        "name": "ipython",
        "version": 3
      },
      "file_extension": ".py",
      "mimetype": "text/x-python",
      "name": "python",
      "nbconvert_exporter": "python",
      "pygments_lexer": "ipython3",
      "version": "3.7.7"
    },
    "latex_envs": {
      "LaTeX_envs_menu_present": true,
      "autoclose": false,
      "autocomplete": true,
      "bibliofile": "biblio.bib",
      "cite_by": "apalike",
      "current_citInitial": 1,
      "eqLabelWithNumbers": true,
      "eqNumInitial": 1,
      "hotkeys": {
        "equation": "Ctrl-E",
        "itemize": "Ctrl-I"
      },
      "labels_anchors": false,
      "latex_user_defs": false,
      "report_style_numbering": false,
      "user_envs_cfg": false
    },
    "varInspector": {
      "cols": {
        "lenName": 16,
        "lenType": 16,
        "lenVar": 40
      },
      "kernels_config": {
        "python": {
          "delete_cmd_postfix": "",
          "delete_cmd_prefix": "del ",
          "library": "var_list.py",
          "varRefreshCmd": "print(var_dic_list())"
        },
        "r": {
          "delete_cmd_postfix": ") ",
          "delete_cmd_prefix": "rm(",
          "library": "var_list.r",
          "varRefreshCmd": "cat(var_dic_list()) "
        }
      },
      "types_to_exclude": [
        "module",
        "function",
        "builtin_function_or_method",
        "instance",
        "_Feature"
      ],
      "window_display": false
    }
  },
  "nbformat": 4,
  "nbformat_minor": 0
}